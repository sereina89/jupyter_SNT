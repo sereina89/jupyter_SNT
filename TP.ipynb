{
 "cells": [
  {
   "cell_type": "markdown",
   "metadata": {},
   "source": [
    "# TP : Les boucles bornées en Python\n",
    "\n",
    "On appelle boucle bornée une boucle qui va être exécutée un nombre de fois connu à l'avance. A chaque étape, elle réexécute la suite d'instructions."
   ]
  },
  {
   "cell_type": "markdown",
   "metadata": {},
   "source": [
    "## Utilisation du module Turtle de Python\n",
    "\n",
    "\n",
    "Le module Turtle de Python permet réaliser des programmes comme ceux que vous avez fait en troisième avec Scratch.\n",
    "\n",
    "Par exemple le programme Scratch ci-dessous :\n",
    "\n",
    "![scratch](figures/scratch.png)\n",
    "\n",
    "donne le code Python suivant (à exécuter) :"
   ]
  },
  {
   "cell_type": "code",
   "execution_count": 1,
   "metadata": {},
   "outputs": [],
   "source": [
    "from turtle import *\n",
    "\n",
    "for i in range(4):      \n",
    "    forward(100)\n",
    "    left(90)\n",
    "    forward(100)\n",
    "    right(90)\n",
    "done()"
   ]
  },
  {
   "cell_type": "markdown",
   "metadata": {},
   "source": [
    "Exécuter maintenant le programme ci-dessous :"
   ]
  },
  {
   "cell_type": "code",
   "execution_count": null,
   "metadata": {},
   "outputs": [],
   "source": [
    "from turtle import *\n",
    "\n",
    "n = 4\n",
    "for i in range(n):\n",
    "    circle(50)\n",
    "    left(360/n)\n",
    "done()"
   ]
  },
  {
   "cell_type": "markdown",
   "metadata": {},
   "source": [
    "Comment obtenir la figure suivante ?\n",
    "\n",
    "![rosace](figures/rosace10.png)\n"
   ]
  },
  {
   "cell_type": "code",
   "execution_count": null,
   "metadata": {},
   "outputs": [],
   "source": []
  },
  {
   "cell_type": "markdown",
   "metadata": {},
   "source": [
    "Tracer un triangle équilatéral, la longueur des côtés étant égal à 200.\n",
    "\n",
    "![equilateral](figures/equilateral.png)"
   ]
  },
  {
   "cell_type": "code",
   "execution_count": null,
   "metadata": {},
   "outputs": [],
   "source": []
  },
  {
   "cell_type": "markdown",
   "metadata": {},
   "source": [
    "Tracer maintenant un carré."
   ]
  },
  {
   "cell_type": "code",
   "execution_count": null,
   "metadata": {},
   "outputs": [],
   "source": []
  },
  {
   "cell_type": "markdown",
   "metadata": {},
   "source": [
    "Pouvez-vous tracer un décagone ?\n",
    "\n",
    "![decagone](figures/decagone.png)"
   ]
  },
  {
   "cell_type": "code",
   "execution_count": null,
   "metadata": {},
   "outputs": [],
   "source": []
  },
  {
   "cell_type": "markdown",
   "metadata": {},
   "source": [
    "Pouvez-vous tracer la figure suivante ?\n",
    "\n",
    "![decagone](figures/enroulements.png)"
   ]
  },
  {
   "cell_type": "code",
   "execution_count": null,
   "metadata": {},
   "outputs": [],
   "source": []
  },
  {
   "cell_type": "markdown",
   "metadata": {},
   "source": [
    "## Autres utilisations d'une boucle bornée"
   ]
  },
  {
   "cell_type": "markdown",
   "metadata": {},
   "source": [
    "### Parcours d'une liste"
   ]
  },
  {
   "cell_type": "code",
   "execution_count": 1,
   "metadata": {
    "tags": []
   },
   "outputs": [
    {
     "output_type": "stream",
     "name": "stdout",
     "text": "pomme\npoire\nkiwi\n"
    }
   ],
   "source": [
    "liste = [\"pomme\",\"poire\",\"kiwi\"]\n",
    "for fruit in liste :\n",
    "    print(fruit)"
   ]
  },
  {
   "cell_type": "markdown",
   "metadata": {},
   "source": [
    "Remarquer que les noms de variable n'ont pas d'importance, mais on essaie de donner des noms significatifs pour facilier la lecture du code:"
   ]
  },
  {
   "cell_type": "code",
   "execution_count": 2,
   "metadata": {
    "tags": []
   },
   "outputs": [
    {
     "output_type": "stream",
     "name": "stdout",
     "text": "pomme\npoire\nkiwi\n"
    }
   ],
   "source": [
    "l = [\"pomme\",\"poire\",\"kiwi\"]\n",
    "for i in l :\n",
    "    print(i)"
   ]
  },
  {
   "cell_type": "code",
   "execution_count": 4,
   "metadata": {
    "tags": []
   },
   "outputs": [
    {
     "output_type": "stream",
     "name": "stdout",
     "text": "T\no\nu\nc\ny\n"
    }
   ],
   "source": [
    "for lettre in \"Toucy\":\n",
    "    print(lettre)"
   ]
  },
  {
   "cell_type": "markdown",
   "metadata": {},
   "source": [
    "### Parcours d'une liste d'entiers :"
   ]
  },
  {
   "cell_type": "code",
   "execution_count": 5,
   "metadata": {
    "tags": []
   },
   "outputs": [
    {
     "output_type": "stream",
     "name": "stdout",
     "text": "0\n1\n2\n3\n4\n5\n6\n7\n8\n9\n"
    }
   ],
   "source": [
    "for i in range(10):\n",
    "    print(i)"
   ]
  },
  {
   "cell_type": "code",
   "execution_count": 6,
   "metadata": {
    "tags": []
   },
   "outputs": [
    {
     "output_type": "stream",
     "name": "stdout",
     "text": "15\n16\n17\n18\n19\n"
    }
   ],
   "source": [
    "for i in range(15,20):\n",
    "    print(i)"
   ]
  },
  {
   "cell_type": "code",
   "execution_count": 7,
   "metadata": {
    "tags": []
   },
   "outputs": [
    {
     "output_type": "stream",
     "name": "stdout",
     "text": "0\n200\n400\n600\n800\n"
    }
   ],
   "source": [
    "for i in range(0,1000,200):\n",
    "    print(i)"
   ]
  },
  {
   "cell_type": "markdown",
   "metadata": {},
   "source": [
    "Créer une boucle affichant :  0,1,2,3,4,5,6"
   ]
  },
  {
   "cell_type": "code",
   "execution_count": null,
   "metadata": {},
   "outputs": [],
   "source": []
  },
  {
   "cell_type": "markdown",
   "metadata": {},
   "source": [
    "Créer une boucle affichant : 2,3,4,5"
   ]
  },
  {
   "cell_type": "code",
   "execution_count": null,
   "metadata": {},
   "outputs": [],
   "source": []
  },
  {
   "cell_type": "markdown",
   "metadata": {},
   "source": [
    "Écrire une fonction ${\\texttt{triple(n)}}$ qui affiche une suite de 5 nombres dont \n",
    "    chaque terme est égal au triple du terme précédent. Par exemple \n",
    "    ${\\texttt{triple(2)}}$\n",
    "     renvoie 2,6,18,54,162"
   ]
  },
  {
   "cell_type": "code",
   "execution_count": null,
   "metadata": {},
   "outputs": [],
   "source": [
    "def triple(n):\n",
    "    ...."
   ]
  },
  {
   "cell_type": "markdown",
   "metadata": {},
   "source": [
    "Compléter une fonction \n",
    "\n",
    "${\\texttt{compte(mot,lettre)}}$\n",
    "\n",
    "qui affiche le nombre de fois où la\n",
    "     lettre cherchée est présente dans le mot. Par exemple ${\\texttt{compte('lycee','e')}}$ retourne 2."
   ]
  },
  {
   "cell_type": "code",
   "execution_count": null,
   "metadata": {},
   "outputs": [],
   "source": [
    "def compte(mot,lettre):\n",
    "    nombre = 0\n",
    "    for ...."
   ]
  }
 ],
 "metadata": {
  "kernelspec": {
   "display_name": "Python 3.6.9 64-bit",
   "language": "python",
   "name": "python_defaultSpec_1596726122702"
  },
  "language_info": {
   "codemirror_mode": {
    "name": "ipython",
    "version": 3
   },
   "file_extension": ".py",
   "mimetype": "text/x-python",
   "name": "python",
   "nbconvert_exporter": "python",
   "pygments_lexer": "ipython3",
   "version": "3.6.9-final"
  }
 },
 "nbformat": 4,
 "nbformat_minor": 2
}